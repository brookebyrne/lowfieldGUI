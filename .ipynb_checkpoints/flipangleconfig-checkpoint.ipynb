{
 "cells": [
  {
   "cell_type": "code",
   "execution_count": 1,
   "id": "04245548-ff81-48e1-9329-875efd986197",
   "metadata": {},
   "outputs": [],
   "source": [
    "##test "
   ]
  },
  {
   "cell_type": "code",
   "execution_count": null,
   "id": "dab7abdf-363f-486b-a863-a5d348357a3a",
   "metadata": {},
   "outputs": [],
   "source": []
  }
 ],
 "metadata": {
  "kernelspec": {
   "display_name": "Python 3 (ipykernel)",
   "language": "python",
   "name": "python3"
  },
  "language_info": {
   "codemirror_mode": {
    "name": "ipython",
    "version": 3
   },
   "file_extension": ".py",
   "mimetype": "text/x-python",
   "name": "python",
   "nbconvert_exporter": "python",
   "pygments_lexer": "ipython3",
   "version": "3.12.1"
  }
 },
 "nbformat": 4,
 "nbformat_minor": 5
}
